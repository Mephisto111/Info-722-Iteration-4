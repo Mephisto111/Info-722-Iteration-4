{
 "cells": [
  {
   "cell_type": "markdown",
   "id": "97aa564f",
   "metadata": {},
   "source": [
    "## Iteration 4 code\n",
    "### Daorui Wang dwan266 796617373"
   ]
  },
  {
   "cell_type": "code",
   "execution_count": 31,
   "id": "f3b798a3",
   "metadata": {},
   "outputs": [],
   "source": [
    "# Initialize Spark\n",
    "import findspark\n",
    "findspark.init('/home/ubuntu/spark-3.2.1-bin-hadoop2.7')\n",
    "\n",
    "# Standard Python libraries\n",
    "import numpy as np\n",
    "import seaborn as sns\n",
    "import matplotlib.pyplot as plt\n",
    "\n",
    "# PySpark imports\n",
    "import pyspark\n",
    "from pyspark.sql import SparkSession\n",
    "from pyspark.sql.functions import coalesce, isnan, when, count, col, log1p, sqrt\n",
    "from pyspark.sql import functions as F\n",
    "from pyspark.sql.window import Window\n",
    "\n",
    "# PySpark ML imports\n",
    "from pyspark.ml import Pipeline\n",
    "from pyspark.ml.feature import VectorAssembler, StringIndexer, OneHotEncoder\n",
    "from pyspark.ml.regression import (LinearRegression, LinearRegressionModel, DecisionTreeRegressor, \n",
    "                                   RandomForestRegressor, GBTRegressor, AFTSurvivalRegression, \n",
    "                                   IsotonicRegression, FMRegressor, GeneralizedLinearRegression)\n",
    "from pyspark.ml.tuning import CrossValidator, ParamGridBuilder\n",
    "from pyspark.ml.evaluation import RegressionEvaluator, MulticlassClassificationEvaluator\n",
    "from pyspark.ml.classification import MultilayerPerceptronClassifier\n",
    "from pyspark.ml.linalg import Vectors\n",
    "\n",
    "# Create Spark session\n",
    "spark = SparkSession.builder.appName('HIV_Analysis').getOrCreate()"
   ]
  },
  {
   "cell_type": "markdown",
   "id": "210b6a0d",
   "metadata": {},
   "source": [
    "### 1. Import data"
   ]
  },
  {
   "cell_type": "code",
   "execution_count": 2,
   "id": "f71148e5",
   "metadata": {},
   "outputs": [],
   "source": [
    "deaths_data = spark.read.csv(\"no_of_deaths_by_country_clean.csv\", header=True, inferSchema=True)\n",
    "hiv_data = spark.read.csv(\"no_of_people_living_with_hiv_by_country_clean.csv\", header=True, inferSchema=True)\n",
    "\n",
    "# Rename the WHO Region column in the deaths_data dataset\n",
    "deaths_data = deaths_data.withColumnRenamed(\"WHO Region\", \"WHO Region_deaths\")"
   ]
  },
  {
   "cell_type": "code",
   "execution_count": 3,
   "id": "44f26dc1",
   "metadata": {},
   "outputs": [
    {
     "name": "stdout",
     "output_type": "stream",
     "text": [
      "Deaths Data:\n",
      "Row(Country='Afghanistan', Year=2018, Count_deaths='500[200–610]', Count_median_deaths=500, Count_min_deaths=200, Count_max_deaths=610, WHO Region_deaths='Eastern Mediterranean')\n",
      "\n",
      "HIV Data:\n",
      "Row(Country='Afghanistan', Year=2018, Count_hiv='7200[4100–11000]', Count_median_hiv=7200, Count_min_hiv=4100, Count_max_hiv=11000, WHO Region='Eastern Mediterranean')\n"
     ]
    }
   ],
   "source": [
    "# Print the first five rows of the data so you can see the data structure\n",
    "print(\"Deaths Data:\")\n",
    "print(deaths_data.head())\n",
    "\n",
    "print(\"\\nHIV Data:\")\n",
    "print(hiv_data.head())"
   ]
  },
  {
   "cell_type": "code",
   "execution_count": 4,
   "id": "9d6502ae",
   "metadata": {
    "scrolled": true
   },
   "outputs": [
    {
     "name": "stdout",
     "output_type": "stream",
     "text": [
      "\n",
      "Deaths Data Data Types:\n",
      "[('Country', 'string'), ('Year', 'int'), ('Count_deaths', 'string'), ('Count_median_deaths', 'int'), ('Count_min_deaths', 'int'), ('Count_max_deaths', 'int'), ('WHO Region_deaths', 'string')]\n",
      "\n",
      "HIV Data Data Types:\n",
      "[('Country', 'string'), ('Year', 'int'), ('Count_hiv', 'string'), ('Count_median_hiv', 'int'), ('Count_min_hiv', 'int'), ('Count_max_hiv', 'int'), ('WHO Region', 'string')]\n"
     ]
    }
   ],
   "source": [
    "# View the data type \n",
    "print(\"\\nDeaths Data Data Types:\")\n",
    "print(deaths_data.dtypes)\n",
    "\n",
    "print(\"\\nHIV Data Data Types:\")\n",
    "print(hiv_data.dtypes)"
   ]
  },
  {
   "cell_type": "markdown",
   "id": "b988ee83",
   "metadata": {},
   "source": [
    "### 2. Merge and select data"
   ]
  },
  {
   "cell_type": "code",
   "execution_count": 5,
   "id": "6eb4f8eb",
   "metadata": {},
   "outputs": [],
   "source": [
    "merged_data = deaths_data.join(hiv_data, [\"Country\", \"Year\"], \"outer\")\n",
    "\n",
    "# Select the columns we need and select the WHO Region_deaths column in deaths_data as the WHO Region column of the merged dataset\n",
    "merged_data = merged_data.select('Country', 'Year', 'Count_deaths', 'Count_median_deaths', 'Count_hiv', 'Count_median_hiv', 'WHO Region','WHO Region_deaths')\n",
    "\n",
    "merged_data = merged_data.withColumn(\"WHO Region\", coalesce(merged_data[\"WHO Region_deaths\"], merged_data[\"WHO Region\"]))\n",
    "\n",
    "merged_data = merged_data.drop(\"WHO Region_deaths\")"
   ]
  },
  {
   "cell_type": "code",
   "execution_count": 6,
   "id": "b81884c5",
   "metadata": {},
   "outputs": [
    {
     "name": "stderr",
     "output_type": "stream",
     "text": [
      "\r",
      "[Stage 6:>                                                          (0 + 1) / 1]\r"
     ]
    },
    {
     "name": "stdout",
     "output_type": "stream",
     "text": [
      "+-----------+----+-----------------+-------------------+--------------------+----------------+--------------------+\n",
      "|    Country|Year|     Count_deaths|Count_median_deaths|           Count_hiv|Count_median_hiv|          WHO Region|\n",
      "+-----------+----+-----------------+-------------------+--------------------+----------------+--------------------+\n",
      "|Afghanistan|2000|     100[100–500]|                100|     1600[1000–3500]|            1600|Eastern Mediterra...|\n",
      "|Afghanistan|2005|             null|               null|     2900[1700–5000]|            2900|Eastern Mediterra...|\n",
      "|Afghanistan|2010|     500[200–500]|                500|     4200[2500–6200]|            4200|Eastern Mediterra...|\n",
      "|Afghanistan|2018|     500[200–610]|                500|    7200[4100–11000]|            7200|Eastern Mediterra...|\n",
      "|    Albania|2000|               na|               null|                  na|            null|              Europe|\n",
      "|    Albania|2005|             null|               null|                  na|            null|              Europe|\n",
      "|    Albania|2010|               na|               null|                  na|            null|              Europe|\n",
      "|    Albania|2018|               na|               null|                  na|            null|              Europe|\n",
      "|    Algeria|2000|     100[100–100]|                100|     1900[1700–2000]|            1900|              Africa|\n",
      "|    Algeria|2005|             null|               null|     3700[3500–4000]|            3700|              Africa|\n",
      "|    Algeria|2010|     200[100–200]|                200|     7100[6600–7600]|            7100|              Africa|\n",
      "|    Algeria|2018|     200[200–200]|                200|  16000[15000–17000]|           16000|              Africa|\n",
      "|     Angola|2000|  4800[3500–6400]|               4800| 87000[72000–110000]|           87000|              Africa|\n",
      "|     Angola|2005|             null|               null|150000[120000–170...|          150000|              Africa|\n",
      "|     Angola|2010|10000[7300–13000]|              10000|220000[180000–250...|          220000|              Africa|\n",
      "|     Angola|2018|14000[9500–18000]|              14000|330000[290000–390...|          330000|              Africa|\n",
      "|  Argentina|2000|  1400[1200–1700]|               1400|  64000[55000–71000]|           64000|            Americas|\n",
      "|  Argentina|2005|             null|               null|  85000[76000–94000]|           85000|            Americas|\n",
      "|  Argentina|2010|  1600[1300–2000]|               1600|110000[96000–120000]|          110000|            Americas|\n",
      "|  Argentina|2018|  1700[1300–2100]|               1700|140000[130000–150...|          140000|            Americas|\n",
      "+-----------+----+-----------------+-------------------+--------------------+----------------+--------------------+\n",
      "only showing top 20 rows\n",
      "\n"
     ]
    },
    {
     "name": "stderr",
     "output_type": "stream",
     "text": [
      "\r",
      "                                                                                \r"
     ]
    }
   ],
   "source": [
    "merged_data.show()"
   ]
  },
  {
   "cell_type": "markdown",
   "id": "0cf35316",
   "metadata": {},
   "source": [
    "#### 2.1. Show the data quality"
   ]
  },
  {
   "cell_type": "code",
   "execution_count": 7,
   "id": "28d47297",
   "metadata": {},
   "outputs": [
    {
     "name": "stdout",
     "output_type": "stream",
     "text": [
      "Total rows: 680\n",
      "Total columns: 7\n",
      "Column information:\n",
      "root\n",
      " |-- Country: string (nullable = true)\n",
      " |-- Year: integer (nullable = true)\n",
      " |-- Count_deaths: string (nullable = true)\n",
      " |-- Count_median_deaths: integer (nullable = true)\n",
      " |-- Count_hiv: string (nullable = true)\n",
      " |-- Count_median_hiv: integer (nullable = true)\n",
      " |-- WHO Region: string (nullable = true)\n",
      "\n",
      "Missing values for each column:\n",
      "+-------+----+------------+-------------------+---------+----------------+----------+\n",
      "|Country|Year|Count_deaths|Count_median_deaths|Count_hiv|Count_median_hiv|WHO Region|\n",
      "+-------+----+------------+-------------------+---------+----------------+----------+\n",
      "|      0|   0|         170|                280|        0|             127|         0|\n",
      "+-------+----+------------+-------------------+---------+----------------+----------+\n",
      "\n",
      "Statistical Information:\n",
      "+-------+-----------+----------------+--------------------+-------------------+--------------------+------------------+---------------+\n",
      "|summary|    Country|            Year|        Count_deaths|Count_median_deaths|           Count_hiv|  Count_median_hiv|     WHO Region|\n",
      "+-------+-----------+----------------+--------------------+-------------------+--------------------+------------------+---------------+\n",
      "|  count|        680|             680|                 510|                400|                 680|               553|            680|\n",
      "|   mean|       null|         2008.25|                null|           6871.825|                null|185791.82640144665|           null|\n",
      "| stddev|       null|6.65226106820739|                null|  17748.91414432532|                null| 575675.0302830623|           null|\n",
      "|    min|Afghanistan|            2000|100000[68000–140000]|                100|1000000[900000–11...|               100|         Africa|\n",
      "|    max|   Zimbabwe|            2018|                  na|             140000|                  na|           7700000|Western Pacific|\n",
      "+-------+-----------+----------------+--------------------+-------------------+--------------------+------------------+---------------+\n",
      "\n"
     ]
    }
   ],
   "source": [
    "# View basic information of the data\n",
    "print(\"Total rows:\", merged_data.count())\n",
    "print(\"Total columns:\", len(merged_data.columns))\n",
    "print(\"Column information:\")\n",
    "merged_data.printSchema()\n",
    "\n",
    "# Check for missing values\n",
    "print(\"Missing values for each column:\")\n",
    "merged_data.select([count(when(isnan(c) | col(c).isNull(), c)).alias(c) for c in merged_data.columns]).show()\n",
    "\n",
    "# View statistics\n",
    "print(\"Statistical Information:\")\n",
    "merged_data.describe().show()"
   ]
  },
  {
   "cell_type": "markdown",
   "id": "7ff22626",
   "metadata": {},
   "source": [
    "### 3.Clean the data (Missing value)"
   ]
  },
  {
   "cell_type": "markdown",
   "id": "0d3427b6",
   "metadata": {},
   "source": [
    "#### 3.1. Populate values for Count_median_deaths column for 2005 for each country"
   ]
  },
  {
   "cell_type": "code",
   "execution_count": 8,
   "id": "4b12df8e",
   "metadata": {},
   "outputs": [
    {
     "name": "stdout",
     "output_type": "stream",
     "text": [
      "+--------------------+----+-------------------+\n",
      "|             Country|Year|Count_median_deaths|\n",
      "+--------------------+----+-------------------+\n",
      "|         Afghanistan|2005|              300.0|\n",
      "|             Albania|2005|               null|\n",
      "|             Algeria|2005|              150.0|\n",
      "|              Angola|2005|             7400.0|\n",
      "|           Argentina|2005|             1500.0|\n",
      "|             Armenia|2005|              150.0|\n",
      "|           Australia|2005|              500.0|\n",
      "|             Austria|2005|               null|\n",
      "|          Azerbaijan|2005|               null|\n",
      "|             Bahamas|2005|              350.0|\n",
      "|             Bahrain|2005|               null|\n",
      "|          Bangladesh|2005|              300.0|\n",
      "|            Barbados|2005|              100.0|\n",
      "|             Belarus|2005|              150.0|\n",
      "|             Belgium|2005|               null|\n",
      "|              Belize|2005|              150.0|\n",
      "|               Benin|2005|             2200.0|\n",
      "|              Bhutan|2005|              100.0|\n",
      "|Bolivia (Plurinat...|2005|             1135.0|\n",
      "|Bosnia and Herzeg...|2005|              100.0|\n",
      "+--------------------+----+-------------------+\n",
      "only showing top 20 rows\n",
      "\n"
     ]
    }
   ],
   "source": [
    "# 1. Calculate the average of Count_median_deaths for the years 2000 and 2010 for each country\n",
    "avg_window = Window.partitionBy(\"Country\")\n",
    "average_values = merged_data.withColumn(\"Avg_2000_2010\", \n",
    "                                        F.when((F.col(\"Year\") == 2000) | (F.col(\"Year\") == 2010), F.col(\"Count_median_deaths\"))\n",
    "                                         .otherwise(None))\\\n",
    "                            .withColumn(\"Avg_2000_2010\", F.avg(\"Avg_2000_2010\").over(avg_window))\n",
    "\n",
    "# 2. Fill the 2005 values for Count_median_deaths with the calculated average for each country\n",
    "filled_data = average_values.withColumn(\"Count_median_deaths\",\n",
    "                                        F.when((F.col(\"Year\") == 2005) & (F.col(\"Count_median_deaths\").isNull()), F.col(\"Avg_2000_2010\"))\n",
    "                                         .otherwise(F.col(\"Count_median_deaths\")))\n",
    "\n",
    "# Drop the auxiliary column\n",
    "filled_data = filled_data.drop(\"Avg_2000_2010\")\n",
    "\n",
    "# Display the filled data for 2005\n",
    "filled_data.filter(filled_data['Year'] == 2005).select('Country', 'Year', 'Count_median_deaths').show()"
   ]
  },
  {
   "cell_type": "markdown",
   "id": "15fef345",
   "metadata": {},
   "source": [
    "#### 3.2. Delete rows containing NaN values"
   ]
  },
  {
   "cell_type": "code",
   "execution_count": 9,
   "id": "8ea85e58",
   "metadata": {},
   "outputs": [
    {
     "name": "stdout",
     "output_type": "stream",
     "text": [
      "+-----------+----+-----------------+-------------------+--------------------+----------------+--------------------+\n",
      "|    Country|Year|     Count_deaths|Count_median_deaths|           Count_hiv|Count_median_hiv|          WHO Region|\n",
      "+-----------+----+-----------------+-------------------+--------------------+----------------+--------------------+\n",
      "|Afghanistan|2000|     100[100–500]|              100.0|     1600[1000–3500]|            1600|Eastern Mediterra...|\n",
      "|Afghanistan|2010|     500[200–500]|              500.0|     4200[2500–6200]|            4200|Eastern Mediterra...|\n",
      "|Afghanistan|2018|     500[200–610]|              500.0|    7200[4100–11000]|            7200|Eastern Mediterra...|\n",
      "|    Algeria|2000|     100[100–100]|              100.0|     1900[1700–2000]|            1900|              Africa|\n",
      "|    Algeria|2010|     200[100–200]|              200.0|     7100[6600–7600]|            7100|              Africa|\n",
      "|    Algeria|2018|     200[200–200]|              200.0|  16000[15000–17000]|           16000|              Africa|\n",
      "|     Angola|2000|  4800[3500–6400]|             4800.0| 87000[72000–110000]|           87000|              Africa|\n",
      "|     Angola|2010|10000[7300–13000]|            10000.0|220000[180000–250...|          220000|              Africa|\n",
      "|     Angola|2018|14000[9500–18000]|            14000.0|330000[290000–390...|          330000|              Africa|\n",
      "|  Argentina|2000|  1400[1200–1700]|             1400.0|  64000[55000–71000]|           64000|            Americas|\n",
      "|  Argentina|2010|  1600[1300–2000]|             1600.0|110000[96000–120000]|          110000|            Americas|\n",
      "|  Argentina|2018|  1700[1300–2100]|             1700.0|140000[130000–150...|          140000|            Americas|\n",
      "|    Armenia|2000|     100[100–100]|              100.0|       950[580–1600]|             950|              Europe|\n",
      "|    Armenia|2010|     200[200–200]|              200.0|     3300[2800–4100]|            3300|              Europe|\n",
      "|    Armenia|2018|     200[100–200]|              200.0|     3500[3000–4400]|            3500|              Europe|\n",
      "|  Australia|2000|     500[200–500]|              500.0|  13000[11000–15000]|           13000|     Western Pacific|\n",
      "|  Australia|2010|     500[200–500]|              500.0|  21000[17000–23000]|           21000|     Western Pacific|\n",
      "|  Australia|2018|     200[200–500]|              200.0|  28000[23000–31000]|           28000|     Western Pacific|\n",
      "|    Bahamas|2000|     500[500–500]|              500.0|     5100[4400–5900]|            5100|            Americas|\n",
      "|    Bahamas|2010|     200[200–500]|              200.0|     5800[5100–6600]|            5800|            Americas|\n",
      "+-----------+----+-----------------+-------------------+--------------------+----------------+--------------------+\n",
      "only showing top 20 rows\n",
      "\n"
     ]
    }
   ],
   "source": [
    "# Drop rows with NaN values\n",
    "filtered_data = filled_data.dropna()\n",
    "\n",
    "# Display the result\n",
    "filtered_data.show()"
   ]
  },
  {
   "cell_type": "markdown",
   "id": "4f4a707b",
   "metadata": {},
   "source": [
    "#### 3.3. Show the filtered data quality"
   ]
  },
  {
   "cell_type": "code",
   "execution_count": 10,
   "id": "55e1baf7",
   "metadata": {},
   "outputs": [
    {
     "name": "stdout",
     "output_type": "stream",
     "text": [
      "Total rows: 397\n",
      "Total columns: 7\n",
      "Column information:\n",
      "root\n",
      " |-- Country: string (nullable = true)\n",
      " |-- Year: integer (nullable = true)\n",
      " |-- Count_deaths: string (nullable = true)\n",
      " |-- Count_median_deaths: double (nullable = true)\n",
      " |-- Count_hiv: string (nullable = true)\n",
      " |-- Count_median_hiv: integer (nullable = true)\n",
      " |-- WHO Region: string (nullable = true)\n",
      "\n",
      "Missing values for each column:\n",
      "+-------+----+------------+-------------------+---------+----------------+----------+\n",
      "|Country|Year|Count_deaths|Count_median_deaths|Count_hiv|Count_median_hiv|WHO Region|\n",
      "+-------+----+------------+-------------------+---------+----------------+----------+\n",
      "|      0|   0|           0|                  0|        0|               0|         0|\n",
      "+-------+----+------------+-------------------+---------+----------------+----------+\n",
      "\n",
      "Statistical Information:\n",
      "+-------+-----------+------------------+--------------------+-------------------+--------------------+------------------+---------------+\n",
      "|summary|    Country|              Year|        Count_deaths|Count_median_deaths|           Count_hiv|  Count_median_hiv|     WHO Region|\n",
      "+-------+-----------+------------------+--------------------+-------------------+--------------------+------------------+---------------+\n",
      "|  count|        397|               397|                 397|                397|                 397|               397|            397|\n",
      "|   mean|       null|2009.3350125944585|                null|  6922.997481108312|                null|193466.70025188918|           null|\n",
      "| stddev|       null| 7.363650027645188|                null| 17806.191816402486|                null| 608259.4056801979|           null|\n",
      "|    min|Afghanistan|              2000|100000[68000–140000]|              100.0|1000000[900000–11...|               100|         Africa|\n",
      "|    max|   Zimbabwe|              2018|    9900[6900–13000]|           140000.0|    9900[8800–11000]|           7700000|Western Pacific|\n",
      "+-------+-----------+------------------+--------------------+-------------------+--------------------+------------------+---------------+\n",
      "\n"
     ]
    }
   ],
   "source": [
    "# View basic information of the data\n",
    "print(\"Total rows:\", filtered_data.count())\n",
    "print(\"Total columns:\", len(filtered_data.columns))\n",
    "print(\"Column information:\")\n",
    "filtered_data.printSchema()\n",
    "\n",
    "# Check for missing values\n",
    "print(\"Missing values for each column:\")\n",
    "filtered_data.select([count(when(isnan(c) | col(c).isNull(), c)).alias(c) for c in filtered_data.columns]).show()\n",
    "\n",
    "# View statistics\n",
    "print(\"Statistical Information:\")\n",
    "filtered_data.describe().show()"
   ]
  },
  {
   "cell_type": "markdown",
   "id": "716e6d31",
   "metadata": {},
   "source": [
    "#### 3.4. Construt the data"
   ]
  },
  {
   "cell_type": "code",
   "execution_count": 11,
   "id": "74186843",
   "metadata": {},
   "outputs": [
    {
     "data": {
      "image/png": "[encoded data removed]",
      "text/plain": [
       "<Figure size 864x576 with 2 Axes>"
      ]
     },
     "metadata": {
      "needs_background": "light"
     },
     "output_type": "display_data"
    }
   ],
   "source": [
    "# Collect data from Spark DataFrame to Python list\n",
    "count_median_deaths_list = filtered_data.select(\"Count_median_deaths\").rdd.flatMap(lambda x: x).collect()\n",
    "count_median_hiv_list = filtered_data.select(\"Count_median_hiv\").rdd.flatMap(lambda x: x).collect()\n",
    "\n",
    "# Set style\n",
    "sns.set(style=\"whitegrid\")\n",
    "\n",
    "# Create a 2x1 subgraph layout\n",
    "fig, axes = plt.subplots(2, 1, figsize=(12, 8))\n",
    "\n",
    "# Draw the distribution chart of Count_median_deaths\n",
    "sns.histplot(count_median_deaths_list, kde=True, ax=axes[0], bins=50)\n",
    "axes[0].set_title('Distribution of Count_median_deaths')\n",
    "\n",
    "# Draw the distribution graph of Count_median_hiv\n",
    "sns.histplot(count_median_hiv_list, kde=True, ax=axes[1], bins=50)\n",
    "axes[1].set_title('Distribution of Count_median_hiv')\n",
    "\n",
    "# Adjust sub-picture layout\n",
    "plt.tight_layout()\n",
    "\n",
    "plt.show()"
   ]
  },
  {
   "cell_type": "code",
   "execution_count": 12,
   "id": "0da369fe",
   "metadata": {},
   "outputs": [
    {
     "data": {
      "image/png": "[encoded data removed]",
      "text/plain": [
       "<Figure size 1008x720 with 2 Axes>"
      ]
     },
     "metadata": {
      "needs_background": "light"
     },
     "output_type": "display_data"
    }
   ],
   "source": [
    "# Calculate the distribution of \"WHO Region\"\n",
    "who_region_distribution = filtered_data.groupBy(\"WHO Region\").count().collect()\n",
    "who_regions = [row[\"WHO Region\"] for row in who_region_distribution]\n",
    "who_region_counts = [row[\"count\"] for row in who_region_distribution]\n",
    "\n",
    "# Calculate the distribution of \"Year\"\n",
    "year_distribution = filtered_data.groupBy(\"Year\").count().orderBy(\"Year\").collect()\n",
    "years = [row[\"Year\"] for row in year_distribution]\n",
    "year_counts = [row[\"count\"] for row in year_distribution]\n",
    "\n",
    "# Create a 2x1 subplot layout\n",
    "fig, axes = plt.subplots(2, 1, figsize=(14, 10))\n",
    "\n",
    "# Draw a histogram of \"WHO Region\"\n",
    "sns.barplot(x=who_regions, y=who_region_counts, ax=axes[0])\n",
    "axes[0].set_title('Distribution of WHO Region')\n",
    "axes[0].set_ylabel('Count')\n",
    "axes[0].tick_params(axis='x', rotation=45)\n",
    "\n",
    "# Draw a histogram of \"Year\"\n",
    "sns.barplot(x=years, y=year_counts, ax=axes[1])\n",
    "axes[1].set_title('Distribution of Year')\n",
    "axes[1].set_ylabel('Count')\n",
    "\n",
    "# Adjust subplot layout\n",
    "plt.tight_layout()\n",
    "\n",
    "plt.show()"
   ]
  },
  {
   "cell_type": "markdown",
   "id": "db4c4167",
   "metadata": {},
   "source": [
    "#### 3.5. Add log-transformed columns to the filtered_data DataFrame"
   ]
  },
  {
   "cell_type": "code",
   "execution_count": 13,
   "id": "86b94cbd",
   "metadata": {},
   "outputs": [
    {
     "name": "stdout",
     "output_type": "stream",
     "text": [
      "[('Country', 'string'), ('Year', 'int'), ('Count_deaths', 'string'), ('Count_median_deaths', 'double'), ('Count_hiv', 'string'), ('Count_median_hiv', 'int'), ('WHO Region', 'string'), ('Log_Count_median_deaths', 'double'), ('Log_Count_median_hiv', 'double')]\n"
     ]
    }
   ],
   "source": [
    "filtered_data = filtered_data.withColumn('Log_Count_median_deaths', log1p(col('Count_median_deaths')))\n",
    "filtered_data = filtered_data.withColumn('Log_Count_median_hiv', log1p(col('Count_median_hiv')))\n",
    "\n",
    "# Check data format\n",
    "print(filtered_data.dtypes)"
   ]
  },
  {
   "cell_type": "markdown",
   "id": "ecbc32c1",
   "metadata": {},
   "source": [
    "#### 3.6. Draw comparison charts"
   ]
  },
  {
   "cell_type": "code",
   "execution_count": 14,
   "id": "343ffc7d",
   "metadata": {},
   "outputs": [
    {
     "data": {
      "image/png": "[encoded data removed]",
      "text/plain": [
       "<Figure size 1080x720 with 4 Axes>"
      ]
     },
     "metadata": {
      "needs_background": "light"
     },
     "output_type": "display_data"
    }
   ],
   "source": [
    "#  Draw a distribution map\n",
    "fig, axes = plt.subplots(2, 2, figsize=(15, 10))\n",
    "\n",
    "# Count_median_hiv \n",
    "sns.histplot(filtered_data.select('Count_median_hiv').toPandas(), kde=True, bins=50, ax=axes[0,0], color='blue')\n",
    "axes[0,0].set_title('Distribution of Count_median_hiv')\n",
    "\n",
    "# Log_Count_median_hiv \n",
    "sns.histplot(filtered_data.select('Log_Count_median_hiv').toPandas(), kde=True, bins=50, ax=axes[0,1], color='red')\n",
    "axes[0,1].set_title('Distribution of Log_Count_median_hiv')\n",
    "\n",
    "# Count_median_deaths \n",
    "sns.histplot(filtered_data.select('Count_median_deaths').toPandas(), kde=True, bins=50, ax=axes[1,0], color='blue')\n",
    "axes[1,0].set_title('Distribution of Count_median_deaths')\n",
    "\n",
    "# Log_Count_median_deaths \n",
    "sns.histplot(filtered_data.select('Log_Count_median_deaths').toPandas(), kde=True, bins=50, ax=axes[1,1], color='red')\n",
    "axes[1,1].set_title('Distribution of Log_Count_median_deaths')\n",
    "\n",
    "plt.tight_layout()\n",
    "plt.show()"
   ]
  },
  {
   "cell_type": "markdown",
   "id": "1b75806c",
   "metadata": {},
   "source": [
    "### 4. Create models"
   ]
  },
  {
   "cell_type": "markdown",
   "id": "63d4c2de",
   "metadata": {},
   "source": [
    "#### 4.1. Reselect the data"
   ]
  },
  {
   "cell_type": "code",
   "execution_count": 15,
   "id": "54449e78",
   "metadata": {},
   "outputs": [],
   "source": [
    "data_for_modeling = filtered_data.drop('Count_hiv', 'Count_deaths', 'Count_median_hiv', 'Count_median_deaths')"
   ]
  },
  {
   "cell_type": "code",
   "execution_count": 16,
   "id": "a906d9f2",
   "metadata": {},
   "outputs": [
    {
     "name": "stdout",
     "output_type": "stream",
     "text": [
      "+----+-----------------------+--------------------+---------------+-------------+\n",
      "|Year|Log_Count_median_deaths|Log_Count_median_hiv|     CountryVec|    RegionVec|\n",
      "+----+-----------------------+--------------------+---------------+-------------+\n",
      "|2000|       4.61512051684126|  7.3783837129967145|(133,[0],[1.0])|(5,[3],[1.0])|\n",
      "|2010|     6.2166061010848646|   8.343077871169383|(133,[0],[1.0])|(5,[3],[1.0])|\n",
      "|2018|     6.2166061010848646|   8.881975184248867|(133,[0],[1.0])|(5,[3],[1.0])|\n",
      "|2000|       4.61512051684126|   7.550135342488429|(133,[1],[1.0])|(5,[0],[1.0])|\n",
      "|2010|      5.303304908059076|   8.867990898182093|(133,[1],[1.0])|(5,[0],[1.0])|\n",
      "|2018|      5.303304908059076|   9.680406499268875|(133,[1],[1.0])|(5,[0],[1.0])|\n",
      "|2000|      8.476579508530941|  11.373674891823535|(133,[2],[1.0])|(5,[0],[1.0])|\n",
      "|2010|      9.210440366976517|  12.301387370778713|(133,[2],[1.0])|(5,[0],[1.0])|\n",
      "|2018|      9.546884034617925|  12.706850963741102|(133,[2],[1.0])|(5,[0],[1.0])|\n",
      "|2000|      7.244941546337007|   11.06665398721974|(133,[3],[1.0])|(5,[2],[1.0])|\n",
      "|2010|     7.3783837129967145|  11.608244735642321|(133,[3],[1.0])|(5,[2],[1.0])|\n",
      "|2018|      7.438971592395862|  11.849404844423074|(133,[3],[1.0])|(5,[2],[1.0])|\n",
      "|2000|       4.61512051684126|    6.85751406254539|(133,[4],[1.0])|(5,[1],[1.0])|\n",
      "|2010|      5.303304908059076|   8.101980731853192|(133,[4],[1.0])|(5,[1],[1.0])|\n",
      "|2018|      5.303304908059076|   8.160803920954665|(133,[4],[1.0])|(5,[1],[1.0])|\n",
      "|2000|     6.2166061010848646|   9.472781556562168|(133,[5],[1.0])|(5,[4],[1.0])|\n",
      "|2010|     6.2166061010848646|   9.952325334619427|(133,[5],[1.0])|(5,[4],[1.0])|\n",
      "|2018|      5.303304908059076|  10.239995502805316|(133,[5],[1.0])|(5,[4],[1.0])|\n",
      "|2000|     6.2166061010848646|   8.537191877922927|(133,[6],[1.0])|(5,[2],[1.0])|\n",
      "|2010|      5.303304908059076|   8.665785595466064|(133,[6],[1.0])|(5,[2],[1.0])|\n",
      "+----+-----------------------+--------------------+---------------+-------------+\n",
      "only showing top 20 rows\n",
      "\n"
     ]
    }
   ],
   "source": [
    "# Convert 'WHO Region' and 'Country' to categorical variables\n",
    "\n",
    "# Convert string column to index using StringIndexer\n",
    "country_indexer = StringIndexer(inputCol=\"Country\", outputCol=\"CountryIndex\")\n",
    "region_indexer = StringIndexer(inputCol=\"WHO Region\", outputCol=\"RegionIndex\")\n",
    "\n",
    "# One-hot encoding using OneHotEncoder\n",
    "data_for_modeling = country_indexer.fit(data_for_modeling).transform(data_for_modeling)\n",
    "data_for_modeling = region_indexer.fit(data_for_modeling).transform(data_for_modeling)\n",
    "\n",
    "# Apply transformation\n",
    "country_encoder = OneHotEncoder(inputCol=\"CountryIndex\", outputCol=\"CountryVec\").fit(data_for_modeling)\n",
    "region_encoder = OneHotEncoder(inputCol=\"RegionIndex\", outputCol=\"RegionVec\").fit(data_for_modeling)\n",
    "\n",
    "data_for_modeling = country_encoder.transform(data_for_modeling)\n",
    "data_for_modeling = region_encoder.transform(data_for_modeling)\n",
    "\n",
    "# Remove middle columns that are no longer needed\n",
    "data_for_modeling = data_for_modeling.drop('Country', 'WHO Region', 'CountryIndex', 'RegionIndex')\n",
    "\n",
    "data_for_modeling.show()"
   ]
  },
  {
   "cell_type": "markdown",
   "id": "6ce1bfd2",
   "metadata": {},
   "source": [
    "### 5. Linear model"
   ]
  },
  {
   "cell_type": "code",
   "execution_count": 17,
   "id": "49f7bc7b",
   "metadata": {},
   "outputs": [
    {
     "name": "stderr",
     "output_type": "stream",
     "text": [
      "23/10/09 09:51:45 WARN Instrumentation: [ef6ec9e6] regParam is zero, which might cause numerical instability and overfitting.\n",
      "23/10/09 09:51:46 WARN InstanceBuilder$NativeBLAS: Failed to load implementation from:dev.ludovic.netlib.blas.JNIBLAS\n",
      "23/10/09 09:51:46 WARN InstanceBuilder$NativeBLAS: Failed to load implementation from:dev.ludovic.netlib.blas.ForeignLinkerBLAS\n",
      "23/10/09 09:51:46 WARN InstanceBuilder$NativeLAPACK: Failed to load implementation from:dev.ludovic.netlib.lapack.JNILAPACK\n",
      "23/10/09 09:51:46 WARN Instrumentation: [ef6ec9e6] Cholesky solver failed due to singular covariance matrix. Retrying with Quasi-Newton solver.\n",
      "23/10/09 09:51:46 ERROR LBFGS: Failure! Resetting history: breeze.optimize.FirstOrderException: Line search zoom failed\n",
      "23/10/09 09:51:46 ERROR LBFGS: Failure again! Giving up and returning. Maybe the objective is just poorly behaved?\n"
     ]
    }
   ],
   "source": [
    "# Setting features for the model\n",
    "feature_columns = [\"Year\", \"CountryVec\", \"RegionVec\", \"Log_Count_median_deaths\"]\n",
    "assembler = VectorAssembler(inputCols=feature_columns, outputCol=\"assembled_features\")\n",
    "data_for_modeling = assembler.transform(data_for_modeling)\n",
    "\n",
    "# Splitting the data\n",
    "(training_data, test_data) = data_for_modeling.randomSplit([0.7, 0.3], seed=123)\n",
    "\n",
    "# Defining and training the linear regression model with 'normal' solver\n",
    "lr = LinearRegression(featuresCol='assembled_features', labelCol='Log_Count_median_hiv', solver=\"normal\")\n",
    "lr_model = lr.fit(training_data)\n",
    "\n",
    "# Making predictions\n",
    "predictions = lr_model.transform(test_data)"
   ]
  },
  {
   "cell_type": "code",
   "execution_count": 18,
   "id": "d4283833",
   "metadata": {},
   "outputs": [
    {
     "name": "stdout",
     "output_type": "stream",
     "text": [
      "R2: 0.9527461930717098\n",
      "Root Mean Squared Error (RMSE): 0.5016337342703275\n",
      "Mean Absolute Error (MAE): 0.3986302593484863\n",
      "Num iterations: 38\n",
      "Objective history: [0.4999999999999982, 0.30236826881493073, 0.020790574076521295, 0.010298533467738125, 0.005648538139281456, 0.005249639388985372, 0.005097242893231879, 0.005037173670947581, 0.00494429193485324, 0.00431125139362365, 0.004251539946423577, 0.004056937168172681, 0.004047998790067453, 0.00404612947924754, 0.004043652341799486, 0.004036216689121019, 0.004023500851882744, 0.004014987487153121, 0.003998807210148669, 0.003993369417660375, 0.003992754368102425, 0.0039927044862810845, 0.003992692163070188, 0.003992690753912953, 0.003992690386318998, 0.003992690363247675, 0.003992690301325652, 0.003992690207990535, 0.00399269008673464, 0.003992690072978533, 0.00399269002126168, 0.003992690012536215, 0.003992690011871858, 0.003992690011768829, 0.003992690011470401, 0.003992690011374478, 0.00399269001105651, 0.00399269001105651, 0.00399269001105651]\n",
      "Coefficients: [0.05793336047617297,-0.783549062987168,-0.24449672407617498,0.14058728279729382,0.009792420902726941,-0.5917088990897859,0.651281467941764,-1.3432686872244093,-0.8695099541875392,-1.7022533054675941,0.306103994965873,-1.762369631761209,0.20542212119984307,-1.494439453022066,-0.8463894502506244,-2.682679298317354,0.7688032407539294,0.2945813064693028,-0.6606736925732767,-0.05541778254708099,-0.01629121478149507,-1.1656247563018518,0.5242591468093797,0.16322414540418997,-0.04917823677130386,0.11792593937730325,-3.521460512530241,-1.0269603301481087,-1.539529163288444,-1.2264415331287544,-0.8442098345511079,-1.283941976896512,0.33269105020815815,0.38623932718438514,0.0,-0.3681347037852008,-0.46103981794570414,-0.6439219521424446,0.3627702745174654,-0.8717117890913334,-0.15107345245559803,-0.18955779891566776,0.34495062236372054,0.6433104353726687,0.7095833172716552,-0.3925750240991478,2.2344459819803872,-0.026694217971929744,-0.5556349936446286,-0.05023249897235435,1.5709011872047258,0.29760904762766865,-0.9563105458781148,0.3065867342660562,0.0,-0.9791122595156133,-0.43485835463032,-1.1169147001145587,-0.4224984382392401,-1.8830392399831932,0.0,1.0953982405115745,0.029823835681837496,0.5076935983165743,1.7291883125303058,-0.8032898402623516,-2.5303968205363874,-0.04714055973046067,0.8989745408261268,-1.9144271416744882,-0.431794328500652,-0.26336665852544416,0.11666305371670557,-0.5696163797523649,0.7351379269813509,0.03703584291992857,0.1505373804671178,-1.4410151387339118,-0.6760326555774058,0.8344954505387117,0.3066351256752093,-0.14606594863048347,-1.3333598627639005,-0.26433547039005323,-2.8282819847570404,-2.905191124664145,0.5496862347261565,0.8950245752935263,0.17239758214611595,0.6228015065469528,-0.24817132045233142,-0.5686270431192989,-1.4044998198346592,-0.3743406318694168,0.594918823892673,0.10267334835140772,-0.25069571895156206,0.4191859844623684,-0.787686774169829,-0.455218219643571,-0.49246274295046366,-0.12849969842488895,0.8961075636989103,-0.13844701101419074,-2.57142337304682,0.5548919550199825,0.549992000867565,0.20377147931982822,-0.7648239760147059,-0.05666290625392097,-1.85741615347207,0.2623134030169455,1.6351310027778991,-0.3441512182098973,-1.4296112311433806,0.44869003578910593,-1.2329111070272274,-1.9170760342811304,-0.2574123425728007,0.5009881433669013,-0.029037457522315492,-0.7756474299964051,0.9296204529692406,0.615645728614369,0.7840348104241663,-1.1727432973540712,0.0,0.6680099238455017,-0.3430612644115684,0.8646677774817146,0.7767630604628317,1.2624742310030115,0.2524215194685022,1.7199703475242272,0.12706120172176247,-0.4072861187379457,0.8575248876297777,-0.5595682989065944,-0.11385880550149309,0.7599064673574376]\n",
      "Intercept: -111.44618295703131\n"
     ]
    }
   ],
   "source": [
    "# Evaluating the model\n",
    "evaluator = RegressionEvaluator(predictionCol=\"prediction\", labelCol=\"Log_Count_median_hiv\", metricName=\"r2\")\n",
    "r2 = evaluator.evaluate(predictions)\n",
    "print(\"R2:\", r2)\n",
    "\n",
    "evaluator.setMetricName(\"rmse\")\n",
    "rmse = evaluator.evaluate(predictions)\n",
    "print(\"Root Mean Squared Error (RMSE):\", rmse)\n",
    "\n",
    "evaluator.setMetricName(\"mae\")\n",
    "mae = evaluator.evaluate(predictions)\n",
    "print(\"Mean Absolute Error (MAE):\", mae)\n",
    "\n",
    "# Displaying training summary\n",
    "training_summary = lr_model.summary\n",
    "print(\"Num iterations:\", training_summary.totalIterations)\n",
    "print(\"Objective history:\", training_summary.objectiveHistory)\n",
    "\n",
    "# Accessing coefficient and intercept\n",
    "print(\"Coefficients:\", lr_model.coefficients)\n",
    "print(\"Intercept:\", lr_model.intercept)"
   ]
  },
  {
   "cell_type": "code",
   "execution_count": 19,
   "id": "fc911619",
   "metadata": {},
   "outputs": [],
   "source": [
    "# Use model predictions\n",
    "predictions = lr_model.transform(test_data)\n",
    "\n",
    "residuals = predictions.select(\"Log_Count_median_hiv\", \"prediction\").rdd \\\n",
    "    .map(lambda row: (row[0], row[1], row[0] - row[1])) \\\n",
    "    .collect()\n",
    "\n",
    "observed = [x[0] for x in residuals]\n",
    "predicted = [x[1] for x in residuals]\n",
    "residual_values = [x[2] for x in residuals]"
   ]
  },
  {
   "cell_type": "code",
   "execution_count": 20,
   "id": "9043ead4",
   "metadata": {},
   "outputs": [
    {
     "data": {
      "image/png": "[encoded data removed]",
      "text/plain": [
       "<Figure size 864x432 with 2 Axes>"
      ]
     },
     "metadata": {
      "needs_background": "light"
     },
     "output_type": "display_data"
    }
   ],
   "source": [
    "# Plot residuals\n",
    "plt.figure(figsize=(12, 6))\n",
    "\n",
    "plt.subplot(1, 2, 1)\n",
    "plt.scatter(predicted, residual_values, alpha=0.5)\n",
    "plt.title(\"Residuals vs. Predicted values\")\n",
    "plt.xlabel(\"Predicted values\")\n",
    "plt.ylabel(\"Residuals\")\n",
    "\n",
    "plt.subplot(1, 2, 2)\n",
    "plt.hist(residual_values, bins=20, edgecolor='black', alpha=0.7)\n",
    "plt.title(\"Histogram of Residuals\")\n",
    "plt.xlabel(\"Residuals\")\n",
    "plt.ylabel(\"Frequency\")\n",
    "\n",
    "plt.tight_layout()\n",
    "plt.show()"
   ]
  },
  {
   "cell_type": "code",
   "execution_count": 21,
   "id": "0ce290bb",
   "metadata": {},
   "outputs": [
    {
     "name": "stdout",
     "output_type": "stream",
     "text": [
      "Mean Squared Error (MSE): 0.25163640335799375\n",
      "Root Mean Squared Error (RMSE): 0.5016337342703278\n",
      "Mean Absolute Error (MAE): 0.3986302593484864\n"
     ]
    }
   ],
   "source": [
    "# Use additional metrics to validate the model's predictive power\n",
    "mse = np.mean([(x[0] - x[1])**2 for x in residuals])\n",
    "rmse = np.sqrt(mse)\n",
    "mae = np.mean([abs(x[0] - x[1]) for x in residuals])\n",
    "\n",
    "print(f\"Mean Squared Error (MSE): {mse}\")\n",
    "print(f\"Root Mean Squared Error (RMSE): {rmse}\")\n",
    "print(f\"Mean Absolute Error (MAE): {mae}\")"
   ]
  },
  {
   "cell_type": "markdown",
   "id": "4b2fae22",
   "metadata": {},
   "source": [
    "### 6. C&R Tree"
   ]
  },
  {
   "cell_type": "code",
   "execution_count": 22,
   "id": "c51fa6d0",
   "metadata": {},
   "outputs": [],
   "source": [
    "# Using the previously transformed dataset\n",
    "data_model = data_for_modeling\n",
    "\n",
    "# Splitting the data\n",
    "(training_data, test_data) = data_model.randomSplit([0.7, 0.3], seed=123)\n",
    "\n",
    "# Features for the model\n",
    "feature_columns = [\"Log_Count_median_deaths\", \"CountryVec\", \"RegionVec\"]\n",
    "assembler = VectorAssembler(inputCols=feature_columns, outputCol=\"features\")\n",
    "\n",
    "training_data = assembler.transform(training_data)\n",
    "test_data = assembler.transform(test_data)\n",
    "\n",
    "# Building the model\n",
    "tree_model = DecisionTreeRegressor(featuresCol=\"features\", labelCol=\"Log_Count_median_hiv\")\n",
    "model = tree_model.fit(training_data)\n",
    "\n",
    "# Making predictions\n",
    "train_predictions = model.transform(training_data)\n",
    "test_predictions = model.transform(test_data)"
   ]
  },
  {
   "cell_type": "code",
   "execution_count": 23,
   "id": "23a9cd3c",
   "metadata": {},
   "outputs": [
    {
     "name": "stdout",
     "output_type": "stream",
     "text": [
      "\n",
      "Model Performance:\n",
      "Train MSE: 0.4470\n",
      "Test MSE: 0.6593\n",
      "\n",
      "Feature Importances:\n",
      "(139,[0,15,26,43,46,50,66,68,79,89,106,108,112,137],[0.9530594486314738,0.006492981917502185,0.008284058045835749,0.0018054429034793048,0.005920406057484407,0.0033587430428540814,0.007057589040761062,0.0005788053242249195,0.0012063604364943084,0.0005897433678491856,0.0008545047791743179,0.003536409908484663,0.0048066831082166995,0.0024488234361651202])\n"
     ]
    }
   ],
   "source": [
    "# Evaluation the model performance\n",
    "evaluator = RegressionEvaluator(labelCol=\"Log_Count_median_hiv\", predictionCol=\"prediction\", metricName=\"mse\")\n",
    "\n",
    "train_mse = evaluator.evaluate(train_predictions)\n",
    "test_mse = evaluator.evaluate(test_predictions)\n",
    "\n",
    "print(\"\\nModel Performance:\")\n",
    "print(f\"Train MSE: {train_mse:.4f}\")\n",
    "print(f\"Test MSE: {test_mse:.4f}\")\n",
    "\n",
    "# Retrieve feature importances and other metrics from the model:\n",
    "print(\"\\nFeature Importances:\")\n",
    "print(model.featureImportances)"
   ]
  },
  {
   "cell_type": "code",
   "execution_count": 24,
   "id": "75b32378",
   "metadata": {},
   "outputs": [],
   "source": [
    "# Use the model to make predictions on the test set\n",
    "test_predictions_with_residuals = test_predictions.withColumn(\"residual\", test_predictions[\"Log_Count_median_hiv\"] - test_predictions[\"prediction\"])"
   ]
  },
  {
   "cell_type": "code",
   "execution_count": 25,
   "id": "bdad45e1",
   "metadata": {},
   "outputs": [
    {
     "data": {
      "image/png": "[encoded data removed]",
      "text/plain": [
       "<Figure size 720x432 with 1 Axes>"
      ]
     },
     "metadata": {
      "needs_background": "light"
     },
     "output_type": "display_data"
    }
   ],
   "source": [
    "residuals = test_predictions_with_residuals.select(\"residual\").rdd.flatMap(lambda x: x).collect()\n",
    "\n",
    "# Plot the residuals\n",
    "plt.figure(figsize=(10, 6))\n",
    "plt.scatter(np.arange(len(residuals)), residuals, alpha=0.5)\n",
    "plt.title(\"Residual Plot\")\n",
    "plt.xlabel(\"Index\")\n",
    "plt.ylabel(\"Residual\")\n",
    "plt.axhline(y=0, color='r', linestyle='--')\n",
    "plt.show()"
   ]
  },
  {
   "cell_type": "code",
   "execution_count": 26,
   "id": "22217d2d",
   "metadata": {},
   "outputs": [
    {
     "name": "stdout",
     "output_type": "stream",
     "text": [
      "Mean Absolute Error (MAE): 0.3986302593484863\n",
      "Mean Squared Error (MSE): 0.2516364033579936\n",
      "Root Mean Squared Error (RMSE): 0.5016337342703275\n"
     ]
    }
   ],
   "source": [
    "# Use MAE, MSE and RMSE to measure the predictive ability of the model\n",
    "evaluator_mae = RegressionEvaluator(labelCol=\"Log_Count_median_hiv\", predictionCol=\"prediction\", metricName=\"mae\")\n",
    "evaluator_mse = RegressionEvaluator(labelCol=\"Log_Count_median_hiv\", predictionCol=\"prediction\", metricName=\"mse\")\n",
    "evaluator_rmse = RegressionEvaluator(labelCol=\"Log_Count_median_hiv\", predictionCol=\"prediction\", metricName=\"rmse\")\n",
    "\n",
    "mae = evaluator_mae.evaluate(predictions)\n",
    "mse = evaluator_mse.evaluate(predictions)\n",
    "rmse = evaluator_rmse.evaluate(predictions)\n",
    "\n",
    "print(f\"Mean Absolute Error (MAE): {mae}\")\n",
    "print(f\"Mean Squared Error (MSE): {mse}\")\n",
    "print(f\"Root Mean Squared Error (RMSE): {rmse}\")"
   ]
  },
  {
   "cell_type": "markdown",
   "id": "788e81ca",
   "metadata": {},
   "source": [
    "### 7. Random Forest"
   ]
  },
  {
   "cell_type": "code",
   "execution_count": 29,
   "id": "2bea2fc1",
   "metadata": {},
   "outputs": [],
   "source": [
    "# Building the RandomForest model\n",
    "rf = RandomForestRegressor(featuresCol=\"features\", labelCol=\"Log_Count_median_hiv\", numTrees=100)\n",
    "rf_model = rf.fit(training_data)\n",
    "\n",
    "# Making predictions\n",
    "train_predictions = rf_model.transform(training_data)\n",
    "test_predictions = rf_model.transform(test_data)"
   ]
  },
  {
   "cell_type": "code",
   "execution_count": 30,
   "id": "8fa21f22",
   "metadata": {},
   "outputs": [
    {
     "name": "stdout",
     "output_type": "stream",
     "text": [
      "\n",
      "Model Performance:\n",
      "Train MSE: 0.5860\n",
      "Test MSE: 0.7338\n",
      "Train R^2: 0.8966\n",
      "Test R^2: 0.8622\n",
      "\n",
      "Feature Importances:\n",
      "Log_Count_median_deaths: 0.6126\n",
      "CountryVec: 0.0003\n",
      "RegionVec: 0.0039\n"
     ]
    }
   ],
   "source": [
    "# Evaluate the model\n",
    "evaluator = RegressionEvaluator(labelCol=\"Log_Count_median_hiv\", predictionCol=\"prediction\", metricName=\"mse\")\n",
    "train_mse = evaluator.evaluate(train_predictions)\n",
    "test_mse = evaluator.evaluate(test_predictions)\n",
    "\n",
    "train_r2 = evaluator.setMetricName(\"r2\").evaluate(train_predictions)\n",
    "test_r2 = evaluator.setMetricName(\"r2\").evaluate(test_predictions)\n",
    "\n",
    "# Print model performance\n",
    "print(\"\\nModel Performance:\")\n",
    "print(f\"Train MSE: {train_mse:.4f}\")\n",
    "print(f\"Test MSE: {test_mse:.4f}\")\n",
    "print(f\"Train R^2: {train_r2:.4f}\")\n",
    "print(f\"Test R^2: {test_r2:.4f}\")\n",
    "\n",
    "# Feature Importances\n",
    "print(\"\\nFeature Importances:\")\n",
    "for feature, importance in zip(feature_columns, rf_model.featureImportances):\n",
    "    print(f\"{feature}: {importance:.4f}\")"
   ]
  },
  {
   "cell_type": "code",
   "execution_count": 32,
   "id": "7d981a70",
   "metadata": {},
   "outputs": [],
   "source": [
    "# Calculate residuals\n",
    "test_predictions = test_predictions.withColumn(\"residual\", col(\"Log_Count_median_hiv\") - col(\"prediction\"))"
   ]
  },
  {
   "cell_type": "code",
   "execution_count": 33,
   "id": "b167c2e2",
   "metadata": {},
   "outputs": [
    {
     "data": {
      "image/png": "[encoded data removed]",
      "text/plain": [
       "<Figure size 720x432 with 1 Axes>"
      ]
     },
     "metadata": {
      "needs_background": "light"
     },
     "output_type": "display_data"
    }
   ],
   "source": [
    "# Plot the residuals\n",
    "residuals = test_predictions.select(\"residual\").rdd.flatMap(lambda x: x).collect()\n",
    "plt.figure(figsize=(10, 6))\n",
    "plt.hist(residuals, bins=50, edgecolor='k', alpha=0.7)\n",
    "plt.title('Residuals Histogram')\n",
    "plt.xlabel('Residual')\n",
    "plt.ylabel('Frequency')\n",
    "plt.grid(True)\n",
    "plt.show()"
   ]
  },
  {
   "cell_type": "code",
   "execution_count": 34,
   "id": "1f0871dd",
   "metadata": {},
   "outputs": [
    {
     "name": "stdout",
     "output_type": "stream",
     "text": [
      "Model Performance on Test Set:\n",
      "Mean Absolute Error (MAE): 0.6923\n",
      "Mean Squared Error (MSE): 0.7338\n",
      "Root Mean Squared Error (RMSE): 0.8566\n"
     ]
    }
   ],
   "source": [
    "# Use MAE, MSE and RMSE to measure the predictive ability of the model\n",
    "evaluator = RegressionEvaluator(labelCol=\"Log_Count_median_hiv\", predictionCol=\"prediction\")\n",
    "\n",
    "mae = evaluator.evaluate(test_predictions, {evaluator.metricName: \"mae\"})\n",
    "mse = evaluator.evaluate(test_predictions, {evaluator.metricName: \"mse\"})\n",
    "rmse = evaluator.evaluate(test_predictions, {evaluator.metricName: \"rmse\"})\n",
    "\n",
    "print(\"Model Performance on Test Set:\")\n",
    "print(f\"Mean Absolute Error (MAE): {mae:.4f}\")\n",
    "print(f\"Mean Squared Error (MSE): {mse:.4f}\")\n",
    "print(f\"Root Mean Squared Error (RMSE): {rmse:.4f}\")"
   ]
  },
  {
   "cell_type": "markdown",
   "id": "8f7a517b",
   "metadata": {},
   "source": [
    "### 8.  Visulaize the data"
   ]
  },
  {
   "cell_type": "code",
   "execution_count": null,
   "id": "9c41bd02",
   "metadata": {},
   "outputs": [],
   "source": []
  },
  {
   "cell_type": "code",
   "execution_count": null,
   "id": "0f79643b",
   "metadata": {},
   "outputs": [],
   "source": []
  },
  {
   "cell_type": "code",
   "execution_count": null,
   "id": "376da988",
   "metadata": {},
   "outputs": [],
   "source": []
  },
  {
   "cell_type": "code",
   "execution_count": null,
   "id": "ab181910",
   "metadata": {},
   "outputs": [],
   "source": []
  },
  {
   "cell_type": "code",
   "execution_count": null,
   "id": "a5d133ee",
   "metadata": {},
   "outputs": [],
   "source": []
  },
  {
   "cell_type": "code",
   "execution_count": null,
   "id": "a7dd1a5a",
   "metadata": {},
   "outputs": [],
   "source": []
  }
 ],
 "metadata": {
  "kernelspec": {
   "display_name": "Python 3 (ipykernel)",
   "language": "python",
   "name": "python3"
  },
  "language_info": {
   "codemirror_mode": {
    "name": "ipython",
    "version": 3
   },
   "file_extension": ".py",
   "mimetype": "text/x-python",
   "name": "python",
   "nbconvert_exporter": "python",
   "pygments_lexer": "ipython3",
   "version": "3.10.12"
  }
 },
 "nbformat": 4,
 "nbformat_minor": 5
}
