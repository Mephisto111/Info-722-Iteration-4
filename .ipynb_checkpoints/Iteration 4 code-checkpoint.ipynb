{
 "cells": [
  {
   "cell_type": "markdown",
   "id": "97aa564f",
   "metadata": {},
   "source": [
    "## Iteration 4 code\n",
    "### Daorui Wang dwan266 796617373"
   ]
  },
  {
   "cell_type": "code",
   "execution_count": 18,
   "id": "f3b798a3",
   "metadata": {},
   "outputs": [],
   "source": [
    "import findspark\n",
    "findspark.init('/home/ubuntu/spark-3.2.1-bin-hadoop2.7')\n",
    "import pyspark\n",
    "from pyspark.sql import SparkSession\n",
    "spark = SparkSession.builder.appName('HIV_Analysis').getOrCreate()\n",
    "from pyspark.sql.functions import coalesce\n",
    "from pyspark.sql.functions import isnan, when, count, col\n",
    "from pyspark.sql import functions as F\n",
    "from pyspark.sql.window import Window"
   ]
  },
  {
   "cell_type": "markdown",
   "id": "210b6a0d",
   "metadata": {},
   "source": [
    "### 1. Import data"
   ]
  },
  {
   "cell_type": "code",
   "execution_count": 7,
   "id": "f71148e5",
   "metadata": {},
   "outputs": [],
   "source": [
    "deaths_data = spark.read.csv(\"no_of_deaths_by_country_clean.csv\", header=True, inferSchema=True)\n",
    "hiv_data = spark.read.csv(\"no_of_people_living_with_hiv_by_country_clean.csv\", header=True, inferSchema=True)\n",
    "\n",
    "# Rename the WHO Region column in the deaths_data dataset\n",
    "deaths_data = deaths_data.withColumnRenamed(\"WHO Region\", \"WHO Region_deaths\")"
   ]
  },
  {
   "cell_type": "code",
   "execution_count": 8,
   "id": "44f26dc1",
   "metadata": {},
   "outputs": [
    {
     "name": "stdout",
     "output_type": "stream",
     "text": [
      "Deaths Data:\n",
      "Row(Country='Afghanistan', Year=2018, Count_deaths='500[200–610]', Count_median_deaths=500, Count_min_deaths=200, Count_max_deaths=610, WHO Region_deaths='Eastern Mediterranean')\n",
      "\n",
      "HIV Data:\n",
      "Row(Country='Afghanistan', Year=2018, Count_hiv='7200[4100–11000]', Count_median_hiv=7200, Count_min_hiv=4100, Count_max_hiv=11000, WHO Region='Eastern Mediterranean')\n"
     ]
    }
   ],
   "source": [
    "# Print the first five rows of the data so you can see the data structure\n",
    "print(\"Deaths Data:\")\n",
    "print(deaths_data.head())\n",
    "\n",
    "print(\"\\nHIV Data:\")\n",
    "print(hiv_data.head())"
   ]
  },
  {
   "cell_type": "code",
   "execution_count": 9,
   "id": "9d6502ae",
   "metadata": {
    "scrolled": true
   },
   "outputs": [
    {
     "name": "stdout",
     "output_type": "stream",
     "text": [
      "\n",
      "Deaths Data Data Types:\n",
      "[('Country', 'string'), ('Year', 'int'), ('Count_deaths', 'string'), ('Count_median_deaths', 'int'), ('Count_min_deaths', 'int'), ('Count_max_deaths', 'int'), ('WHO Region_deaths', 'string')]\n",
      "\n",
      "HIV Data Data Types:\n",
      "[('Country', 'string'), ('Year', 'int'), ('Count_hiv', 'string'), ('Count_median_hiv', 'int'), ('Count_min_hiv', 'int'), ('Count_max_hiv', 'int'), ('WHO Region', 'string')]\n"
     ]
    }
   ],
   "source": [
    "# View the data type \n",
    "print(\"\\nDeaths Data Data Types:\")\n",
    "print(deaths_data.dtypes)\n",
    "\n",
    "print(\"\\nHIV Data Data Types:\")\n",
    "print(hiv_data.dtypes)"
   ]
  },
  {
   "cell_type": "markdown",
   "id": "b988ee83",
   "metadata": {},
   "source": [
    "### 2. Merge and select data"
   ]
  },
  {
   "cell_type": "code",
   "execution_count": 14,
   "id": "6eb4f8eb",
   "metadata": {},
   "outputs": [],
   "source": [
    "merged_data = deaths_data.join(hiv_data, [\"Country\", \"Year\"], \"outer\")\n",
    "\n",
    "# Select the columns we need and select the WHO Region_deaths column in deaths_data as the WHO Region column of the merged dataset\n",
    "merged_data = merged_data.select('Country', 'Year', 'Count_deaths', 'Count_median_deaths', 'Count_hiv', 'Count_median_hiv', 'WHO Region','WHO Region_deaths')\n",
    "\n",
    "merged_data = merged_data.withColumn(\"WHO Region\", coalesce(merged_data[\"WHO Region_deaths\"], merged_data[\"WHO Region\"]))\n",
    "\n",
    "merged_data = merged_data.drop(\"WHO Region_deaths\")"
   ]
  },
  {
   "cell_type": "code",
   "execution_count": 15,
   "id": "b81884c5",
   "metadata": {},
   "outputs": [
    {
     "name": "stdout",
     "output_type": "stream",
     "text": [
      "+-----------+----+-----------------+-------------------+--------------------+----------------+--------------------+\n",
      "|    Country|Year|     Count_deaths|Count_median_deaths|           Count_hiv|Count_median_hiv|          WHO Region|\n",
      "+-----------+----+-----------------+-------------------+--------------------+----------------+--------------------+\n",
      "|Afghanistan|2000|     100[100–500]|                100|     1600[1000–3500]|            1600|Eastern Mediterra...|\n",
      "|Afghanistan|2005|             null|               null|     2900[1700–5000]|            2900|Eastern Mediterra...|\n",
      "|Afghanistan|2010|     500[200–500]|                500|     4200[2500–6200]|            4200|Eastern Mediterra...|\n",
      "|Afghanistan|2018|     500[200–610]|                500|    7200[4100–11000]|            7200|Eastern Mediterra...|\n",
      "|    Albania|2000|               na|               null|                  na|            null|              Europe|\n",
      "|    Albania|2005|             null|               null|                  na|            null|              Europe|\n",
      "|    Albania|2010|               na|               null|                  na|            null|              Europe|\n",
      "|    Albania|2018|               na|               null|                  na|            null|              Europe|\n",
      "|    Algeria|2000|     100[100–100]|                100|     1900[1700–2000]|            1900|              Africa|\n",
      "|    Algeria|2005|             null|               null|     3700[3500–4000]|            3700|              Africa|\n",
      "|    Algeria|2010|     200[100–200]|                200|     7100[6600–7600]|            7100|              Africa|\n",
      "|    Algeria|2018|     200[200–200]|                200|  16000[15000–17000]|           16000|              Africa|\n",
      "|     Angola|2000|  4800[3500–6400]|               4800| 87000[72000–110000]|           87000|              Africa|\n",
      "|     Angola|2005|             null|               null|150000[120000–170...|          150000|              Africa|\n",
      "|     Angola|2010|10000[7300–13000]|              10000|220000[180000–250...|          220000|              Africa|\n",
      "|     Angola|2018|14000[9500–18000]|              14000|330000[290000–390...|          330000|              Africa|\n",
      "|  Argentina|2000|  1400[1200–1700]|               1400|  64000[55000–71000]|           64000|            Americas|\n",
      "|  Argentina|2005|             null|               null|  85000[76000–94000]|           85000|            Americas|\n",
      "|  Argentina|2010|  1600[1300–2000]|               1600|110000[96000–120000]|          110000|            Americas|\n",
      "|  Argentina|2018|  1700[1300–2100]|               1700|140000[130000–150...|          140000|            Americas|\n",
      "+-----------+----+-----------------+-------------------+--------------------+----------------+--------------------+\n",
      "only showing top 20 rows\n",
      "\n"
     ]
    }
   ],
   "source": [
    "merged_data.show()"
   ]
  },
  {
   "cell_type": "markdown",
   "id": "0cf35316",
   "metadata": {},
   "source": [
    "#### 2.1 Show the data quality"
   ]
  },
  {
   "cell_type": "code",
   "execution_count": 17,
   "id": "28d47297",
   "metadata": {},
   "outputs": [
    {
     "name": "stdout",
     "output_type": "stream",
     "text": [
      "Total rows: 680\n",
      "Total columns: 7\n",
      "Column information:\n",
      "root\n",
      " |-- Country: string (nullable = true)\n",
      " |-- Year: integer (nullable = true)\n",
      " |-- Count_deaths: string (nullable = true)\n",
      " |-- Count_median_deaths: integer (nullable = true)\n",
      " |-- Count_hiv: string (nullable = true)\n",
      " |-- Count_median_hiv: integer (nullable = true)\n",
      " |-- WHO Region: string (nullable = true)\n",
      "\n",
      "Missing values for each column:\n",
      "+-------+----+------------+-------------------+---------+----------------+----------+\n",
      "|Country|Year|Count_deaths|Count_median_deaths|Count_hiv|Count_median_hiv|WHO Region|\n",
      "+-------+----+------------+-------------------+---------+----------------+----------+\n",
      "|      0|   0|         170|                280|        0|             127|         0|\n",
      "+-------+----+------------+-------------------+---------+----------------+----------+\n",
      "\n",
      "Statistical Information:\n",
      "+-------+-----------+----------------+--------------------+-------------------+--------------------+------------------+---------------+\n",
      "|summary|    Country|            Year|        Count_deaths|Count_median_deaths|           Count_hiv|  Count_median_hiv|     WHO Region|\n",
      "+-------+-----------+----------------+--------------------+-------------------+--------------------+------------------+---------------+\n",
      "|  count|        680|             680|                 510|                400|                 680|               553|            680|\n",
      "|   mean|       null|         2008.25|                null|           6871.825|                null|185791.82640144665|           null|\n",
      "| stddev|       null|6.65226106820739|                null|  17748.91414432532|                null| 575675.0302830623|           null|\n",
      "|    min|Afghanistan|            2000|100000[68000–140000]|                100|1000000[900000–11...|               100|         Africa|\n",
      "|    max|   Zimbabwe|            2018|                  na|             140000|                  na|           7700000|Western Pacific|\n",
      "+-------+-----------+----------------+--------------------+-------------------+--------------------+------------------+---------------+\n",
      "\n"
     ]
    }
   ],
   "source": [
    "# View basic information of the data\n",
    "print(\"Total rows:\", merged_data.count())\n",
    "print(\"Total columns:\", len(merged_data.columns))\n",
    "print(\"Column information:\")\n",
    "merged_data.printSchema()\n",
    "\n",
    "# Check for missing values\n",
    "print(\"Missing values for each column:\")\n",
    "merged_data.select([count(when(isnan(c) | col(c).isNull(), c)).alias(c) for c in merged_data.columns]).show()\n",
    "\n",
    "# View statistics\n",
    "print(\"Statistical Information:\")\n",
    "merged_data.describe().show()"
   ]
  },
  {
   "cell_type": "markdown",
   "id": "7ff22626",
   "metadata": {},
   "source": [
    "### 3.Clean the data (Missing value)"
   ]
  },
  {
   "cell_type": "markdown",
   "id": "0d3427b6",
   "metadata": {},
   "source": [
    "#### 3.1 Populate values for Count_median_deaths column for 2005 for each country"
   ]
  },
  {
   "cell_type": "code",
   "execution_count": 19,
   "id": "4b12df8e",
   "metadata": {},
   "outputs": [
    {
     "name": "stdout",
     "output_type": "stream",
     "text": [
      "+--------------------+----+-------------------+\n",
      "|             Country|Year|Count_median_deaths|\n",
      "+--------------------+----+-------------------+\n",
      "|         Afghanistan|2005|              300.0|\n",
      "|             Albania|2005|               null|\n",
      "|             Algeria|2005|              150.0|\n",
      "|              Angola|2005|             7400.0|\n",
      "|           Argentina|2005|             1500.0|\n",
      "|             Armenia|2005|              150.0|\n",
      "|           Australia|2005|              500.0|\n",
      "|             Austria|2005|               null|\n",
      "|          Azerbaijan|2005|               null|\n",
      "|             Bahamas|2005|              350.0|\n",
      "|             Bahrain|2005|               null|\n",
      "|          Bangladesh|2005|              300.0|\n",
      "|            Barbados|2005|              100.0|\n",
      "|             Belarus|2005|              150.0|\n",
      "|             Belgium|2005|               null|\n",
      "|              Belize|2005|              150.0|\n",
      "|               Benin|2005|             2200.0|\n",
      "|              Bhutan|2005|              100.0|\n",
      "|Bolivia (Plurinat...|2005|             1135.0|\n",
      "|Bosnia and Herzeg...|2005|              100.0|\n",
      "+--------------------+----+-------------------+\n",
      "only showing top 20 rows\n",
      "\n"
     ]
    }
   ],
   "source": [
    "# 1. Calculate the average of Count_median_deaths for the years 2000 and 2010 for each country\n",
    "avg_window = Window.partitionBy(\"Country\")\n",
    "average_values = merged_data.withColumn(\"Avg_2000_2010\", \n",
    "                                        F.when((F.col(\"Year\") == 2000) | (F.col(\"Year\") == 2010), F.col(\"Count_median_deaths\"))\n",
    "                                         .otherwise(None))\\\n",
    "                            .withColumn(\"Avg_2000_2010\", F.avg(\"Avg_2000_2010\").over(avg_window))\n",
    "\n",
    "# 2. Fill the 2005 values for Count_median_deaths with the calculated average for each country\n",
    "filled_data = average_values.withColumn(\"Count_median_deaths\",\n",
    "                                        F.when((F.col(\"Year\") == 2005) & (F.col(\"Count_median_deaths\").isNull()), F.col(\"Avg_2000_2010\"))\n",
    "                                         .otherwise(F.col(\"Count_median_deaths\")))\n",
    "\n",
    "# Drop the auxiliary column\n",
    "filled_data = filled_data.drop(\"Avg_2000_2010\")\n",
    "\n",
    "# Display the filled data for 2005\n",
    "filled_data.filter(filled_data['Year'] == 2005).select('Country', 'Year', 'Count_median_deaths').show()"
   ]
  },
  {
   "cell_type": "markdown",
   "id": "15fef345",
   "metadata": {},
   "source": [
    "#### 3.2 Delete rows containing NaN values"
   ]
  },
  {
   "cell_type": "code",
   "execution_count": 20,
   "id": "8ea85e58",
   "metadata": {},
   "outputs": [
    {
     "name": "stdout",
     "output_type": "stream",
     "text": [
      "+-----------+----+-----------------+-------------------+--------------------+----------------+--------------------+\n",
      "|    Country|Year|     Count_deaths|Count_median_deaths|           Count_hiv|Count_median_hiv|          WHO Region|\n",
      "+-----------+----+-----------------+-------------------+--------------------+----------------+--------------------+\n",
      "|Afghanistan|2000|     100[100–500]|              100.0|     1600[1000–3500]|            1600|Eastern Mediterra...|\n",
      "|Afghanistan|2010|     500[200–500]|              500.0|     4200[2500–6200]|            4200|Eastern Mediterra...|\n",
      "|Afghanistan|2018|     500[200–610]|              500.0|    7200[4100–11000]|            7200|Eastern Mediterra...|\n",
      "|    Algeria|2000|     100[100–100]|              100.0|     1900[1700–2000]|            1900|              Africa|\n",
      "|    Algeria|2010|     200[100–200]|              200.0|     7100[6600–7600]|            7100|              Africa|\n",
      "|    Algeria|2018|     200[200–200]|              200.0|  16000[15000–17000]|           16000|              Africa|\n",
      "|     Angola|2000|  4800[3500–6400]|             4800.0| 87000[72000–110000]|           87000|              Africa|\n",
      "|     Angola|2010|10000[7300–13000]|            10000.0|220000[180000–250...|          220000|              Africa|\n",
      "|     Angola|2018|14000[9500–18000]|            14000.0|330000[290000–390...|          330000|              Africa|\n",
      "|  Argentina|2000|  1400[1200–1700]|             1400.0|  64000[55000–71000]|           64000|            Americas|\n",
      "|  Argentina|2010|  1600[1300–2000]|             1600.0|110000[96000–120000]|          110000|            Americas|\n",
      "|  Argentina|2018|  1700[1300–2100]|             1700.0|140000[130000–150...|          140000|            Americas|\n",
      "|    Armenia|2000|     100[100–100]|              100.0|       950[580–1600]|             950|              Europe|\n",
      "|    Armenia|2010|     200[200–200]|              200.0|     3300[2800–4100]|            3300|              Europe|\n",
      "|    Armenia|2018|     200[100–200]|              200.0|     3500[3000–4400]|            3500|              Europe|\n",
      "|  Australia|2000|     500[200–500]|              500.0|  13000[11000–15000]|           13000|     Western Pacific|\n",
      "|  Australia|2010|     500[200–500]|              500.0|  21000[17000–23000]|           21000|     Western Pacific|\n",
      "|  Australia|2018|     200[200–500]|              200.0|  28000[23000–31000]|           28000|     Western Pacific|\n",
      "|    Bahamas|2000|     500[500–500]|              500.0|     5100[4400–5900]|            5100|            Americas|\n",
      "|    Bahamas|2010|     200[200–500]|              200.0|     5800[5100–6600]|            5800|            Americas|\n",
      "+-----------+----+-----------------+-------------------+--------------------+----------------+--------------------+\n",
      "only showing top 20 rows\n",
      "\n"
     ]
    }
   ],
   "source": [
    "# Drop rows with NaN values\n",
    "filtered_data = filled_data.dropna()\n",
    "\n",
    "# Display the result\n",
    "filtered_data.show()"
   ]
  },
  {
   "cell_type": "markdown",
   "id": "4f4a707b",
   "metadata": {},
   "source": [
    "### 3.3 Show the filtered data quality"
   ]
  },
  {
   "cell_type": "code",
   "execution_count": 21,
   "id": "55e1baf7",
   "metadata": {},
   "outputs": [
    {
     "name": "stdout",
     "output_type": "stream",
     "text": [
      "Total rows: 397\n",
      "Total columns: 7\n",
      "Column information:\n",
      "root\n",
      " |-- Country: string (nullable = true)\n",
      " |-- Year: integer (nullable = true)\n",
      " |-- Count_deaths: string (nullable = true)\n",
      " |-- Count_median_deaths: double (nullable = true)\n",
      " |-- Count_hiv: string (nullable = true)\n",
      " |-- Count_median_hiv: integer (nullable = true)\n",
      " |-- WHO Region: string (nullable = true)\n",
      "\n",
      "Missing values for each column:\n",
      "+-------+----+------------+-------------------+---------+----------------+----------+\n",
      "|Country|Year|Count_deaths|Count_median_deaths|Count_hiv|Count_median_hiv|WHO Region|\n",
      "+-------+----+------------+-------------------+---------+----------------+----------+\n",
      "|      0|   0|           0|                  0|        0|               0|         0|\n",
      "+-------+----+------------+-------------------+---------+----------------+----------+\n",
      "\n",
      "Statistical Information:\n",
      "+-------+-----------+------------------+--------------------+-------------------+--------------------+------------------+---------------+\n",
      "|summary|    Country|              Year|        Count_deaths|Count_median_deaths|           Count_hiv|  Count_median_hiv|     WHO Region|\n",
      "+-------+-----------+------------------+--------------------+-------------------+--------------------+------------------+---------------+\n",
      "|  count|        397|               397|                 397|                397|                 397|               397|            397|\n",
      "|   mean|       null|2009.3350125944585|                null|  6922.997481108312|                null|193466.70025188918|           null|\n",
      "| stddev|       null| 7.363650027645188|                null| 17806.191816402486|                null| 608259.4056801979|           null|\n",
      "|    min|Afghanistan|              2000|100000[68000–140000]|              100.0|1000000[900000–11...|               100|         Africa|\n",
      "|    max|   Zimbabwe|              2018|    9900[6900–13000]|           140000.0|    9900[8800–11000]|           7700000|Western Pacific|\n",
      "+-------+-----------+------------------+--------------------+-------------------+--------------------+------------------+---------------+\n",
      "\n"
     ]
    }
   ],
   "source": [
    "# View basic information of the data\n",
    "print(\"Total rows:\", filtered_data.count())\n",
    "print(\"Total columns:\", len(filtered_data.columns))\n",
    "print(\"Column information:\")\n",
    "filtered_data.printSchema()\n",
    "\n",
    "# Check for missing values\n",
    "print(\"Missing values for each column:\")\n",
    "filtered_data.select([count(when(isnan(c) | col(c).isNull(), c)).alias(c) for c in filtered_data.columns]).show()\n",
    "\n",
    "# View statistics\n",
    "print(\"Statistical Information:\")\n",
    "filtered_data.describe().show()"
   ]
  },
  {
   "cell_type": "code",
   "execution_count": null,
   "id": "74186843",
   "metadata": {},
   "outputs": [],
   "source": []
  },
  {
   "cell_type": "code",
   "execution_count": null,
   "id": "0da369fe",
   "metadata": {},
   "outputs": [],
   "source": []
  },
  {
   "cell_type": "code",
   "execution_count": null,
   "id": "59e16039",
   "metadata": {},
   "outputs": [],
   "source": []
  },
  {
   "cell_type": "code",
   "execution_count": null,
   "id": "692feeaf",
   "metadata": {},
   "outputs": [],
   "source": []
  }
 ],
 "metadata": {
  "kernelspec": {
   "display_name": "Python 3 (ipykernel)",
   "language": "python",
   "name": "python3"
  },
  "language_info": {
   "codemirror_mode": {
    "name": "ipython",
    "version": 3
   },
   "file_extension": ".py",
   "mimetype": "text/x-python",
   "name": "python",
   "nbconvert_exporter": "python",
   "pygments_lexer": "ipython3",
   "version": "3.10.4"
  }
 },
 "nbformat": 4,
 "nbformat_minor": 5
}
